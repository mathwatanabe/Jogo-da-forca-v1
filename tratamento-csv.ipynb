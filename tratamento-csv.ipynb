{
 "cells": [
  {
   "cell_type": "code",
   "execution_count": 37,
   "metadata": {},
   "outputs": [],
   "source": [
    "arquivo = open('cruzadas.csv').read()\n",
    "rows = arquivo.split('\\n')\n",
    "rows_celulas = [row.split(',') for row in rows]\n",
    "palavras = [rows_celulas[i] for i in range(1,len(rows_celulas))]\n",
    "classes = rows_celulas[0]\n",
    "dicionário_palavras = {}\n",
    "for i in range(0,len(classes)):\n",
    "    for row in palavras:\n",
    "        dicionário_palavras[row[i]] = classes[i]"
   ]
  }
 ],
 "metadata": {
  "kernelspec": {
   "display_name": "myenv",
   "language": "python",
   "name": "python3"
  },
  "language_info": {
   "codemirror_mode": {
    "name": "ipython",
    "version": 3
   },
   "file_extension": ".py",
   "mimetype": "text/x-python",
   "name": "python",
   "nbconvert_exporter": "python",
   "pygments_lexer": "ipython3",
   "version": "3.10.13"
  }
 },
 "nbformat": 4,
 "nbformat_minor": 2
}
